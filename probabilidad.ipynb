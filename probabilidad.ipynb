{
  "nbformat": 4,
  "nbformat_minor": 0,
  "metadata": {
    "colab": {
      "provenance": []
    },
    "kernelspec": {
      "name": "python3",
      "display_name": "Python 3"
    },
    "language_info": {
      "name": "python"
    }
  },
  "cells": [
    {
      "cell_type": "markdown",
      "source": [
        "# Probabilidad"
      ],
      "metadata": {
        "id": "_96SpA6vVb2G"
      }
    },
    {
      "cell_type": "code",
      "execution_count": null,
      "metadata": {
        "id": "aCnnb8aLM57z"
      },
      "outputs": [],
      "source": [
        "import numpy as np\n",
        "import matplotlib.pyplot as plt\n",
        "import scipy.stats as st"
      ]
    },
    {
      "cell_type": "code",
      "source": [
        "plt.style.use('dark_background')"
      ],
      "metadata": {
        "id": "Wtl7r9HzW28W"
      },
      "execution_count": null,
      "outputs": []
    },
    {
      "cell_type": "markdown",
      "source": [
        "# Variables aleatorias"
      ],
      "metadata": {
        "id": "dFFu-kkvYhcV"
      }
    },
    {
      "cell_type": "code",
      "source": [
        "# Bernoulli\n",
        "def Ber(p):\n",
        "  u = np.random.uniform()\n",
        "  return 1 if u < p else 0"
      ],
      "metadata": {
        "id": "X9TCnITsNG3X"
      },
      "execution_count": null,
      "outputs": []
    },
    {
      "cell_type": "code",
      "source": [
        "# Binomial\n",
        "def Bin(n, p):\n",
        "  y = 0\n",
        "  for i in range(n):\n",
        "    y += Ber(p)\n",
        "  return y"
      ],
      "metadata": {
        "id": "Py8nZ5E2QXhd"
      },
      "execution_count": null,
      "outputs": []
    },
    {
      "cell_type": "code",
      "source": [
        "# Geométrica\n",
        "def Geo(p):\n",
        "  x = 0\n",
        "  i = 0\n",
        "  while i < 1:\n",
        "    x += 1\n",
        "    i = Ber(p)\n",
        "  return x"
      ],
      "metadata": {
        "id": "dqQqeQ_QXFus"
      },
      "execution_count": null,
      "outputs": []
    },
    {
      "cell_type": "markdown",
      "source": [
        "# Esperanza"
      ],
      "metadata": {
        "id": "aISr93tlYjvM"
      }
    },
    {
      "cell_type": "markdown",
      "source": [
        "Aproximar el **valor de la esperanza** promediando muchos resultados."
      ],
      "metadata": {
        "id": "OJFbvm3VUCho"
      }
    },
    {
      "cell_type": "markdown",
      "source": [
        "# Bernoulli"
      ],
      "metadata": {
        "id": "6BzFa-SRUvf1"
      }
    },
    {
      "cell_type": "code",
      "source": [
        "# Muestras de Bernoulli con p = 0.5\n",
        "n1 = 10\n",
        "n2 = 100\n",
        "n3 = 1000\n",
        "p = 0.5\n",
        "\n",
        "# La distribución de Bernoulli es un caso particular de la distribución binomial (n = 1)\n",
        "bernoulli_10 = np.random.binomial(1, p, n1)\n",
        "bernoulli_100 = np.random.binomial(1, p, n2)\n",
        "bernoulli_1000 = np.random.binomial(1, p, n3)\n",
        "\n",
        "# Calcular el promedio de cada muestra\n",
        "promedio_10 = np.mean(bernoulli_10)\n",
        "promedio_100 = np.mean(bernoulli_100)\n",
        "promedio_1000 = np.mean(bernoulli_1000)\n",
        "print(\"Promedio de la muestra de 10 Bernoulli:\", promedio_10)\n",
        "print(\"Promedio de la muestra de 100 Bernoulli:\", promedio_100)\n",
        "print(\"Promedio de la muestra de 1000 Bernoulli:\", promedio_1000)\n",
        "\n",
        "# Esperanza de la Bernoulli\n",
        "esperanza_bernoulli = p\n",
        "print(\"Esperanza de la Bernoulli:\", esperanza_bernoulli)"
      ],
      "metadata": {
        "colab": {
          "base_uri": "https://localhost:8080/"
        },
        "id": "vD2vP8tiPd3b",
        "outputId": "dad8c52e-ce57-4eb0-8b9d-425ff13a4d5a"
      },
      "execution_count": null,
      "outputs": [
        {
          "output_type": "stream",
          "name": "stdout",
          "text": [
            "Promedio de la muestra de 10 Bernoulli: 0.5\n",
            "Promedio de la muestra de 100 Bernoulli: 0.52\n",
            "Promedio de la muestra de 1000 Bernoulli: 0.519\n",
            "Esperanza de la Bernoulli: 0.5\n"
          ]
        }
      ]
    },
    {
      "cell_type": "code",
      "source": [
        "# Gráfica\n",
        "# ------------------------------------------------------------------------------\n",
        "fig, axes = plt.subplots(1, 3, figsize=(15, 5))  # 1 fila, 3 columnas\n",
        "\n",
        "# Primer histograma\n",
        "axes[0].hist(bernoulli_10, bins=10, color='skyblue', edgecolor='black')\n",
        "axes[0].set_title('Muestra de 10 Bernoulli')\n",
        "axes[0].set_xlabel('Probability')\n",
        "axes[0].set_ylabel('Number of trials')\n",
        "\n",
        "# Segundo histograma\n",
        "axes[1].hist(bernoulli_100, bins=10, color='salmon', edgecolor='black')\n",
        "axes[1].set_title('Muestra de 100 Bernoulli')\n",
        "axes[1].set_xlabel('Probability')\n",
        "axes[1].set_ylabel('Number of trials')\n",
        "\n",
        "# Tercer histograma\n",
        "axes[2].hist(bernoulli_1000, bins=10, color='lightgreen', edgecolor='black')\n",
        "axes[2].set_title('bernoulli_1000')\n",
        "axes[2].set_xlabel('Probability')\n",
        "axes[2].set_ylabel('Number of trials')\n",
        "\n",
        "# Ajustamos los espacios entre gráficos\n",
        "plt.tight_layout()\n",
        "plt.show()"
      ],
      "metadata": {
        "colab": {
          "base_uri": "https://localhost:8080/",
          "height": 507
        },
        "id": "ZkZWvFqoYqVq",
        "outputId": "9d6c4234-9ce6-4350-ac37-4afb85dc130a"
      },
      "execution_count": null,
      "outputs": [
        {
          "output_type": "display_data",
          "data": {
            "text/plain": [
              "<Figure size 1500x500 with 3 Axes>"
            ],
            "image/png": "[encoded data removed]"
          },
          "metadata": {}
        }
      ]
    },
    {
      "cell_type": "markdown",
      "source": [
        "# Binomial"
      ],
      "metadata": {
        "id": "A5MhyqJBUxqB"
      }
    },
    {
      "cell_type": "code",
      "source": [
        "# Muestras de Binomial con p = 0.5\n",
        "n1 = 10\n",
        "n2 = 100\n",
        "n3 = 1000\n",
        "p = 0.5\n",
        "\n",
        "# Muestras de Binomial\n",
        "binomial_10 = [Bin(n1, p) for i in range(n1)]\n",
        "binomial_100 = [Bin(n2, p) for i in range(n2)]\n",
        "binomial_1000 = [Bin(n3, p) for i in range(n3)]\n",
        "\n",
        "# Calcular el promedio de cada muestra\n",
        "promedio_10 = np.mean(binomial_10)\n",
        "promedio_100 = np.mean(binomial_100)\n",
        "promedio_1000 = np.mean(binomial_1000)\n",
        "print(\"Promedio de la muestra de 10 Binomial:\", promedio_10)\n",
        "print(\"Promedio de la muestra de 100 Binomial:\", promedio_100)\n",
        "print(\"Promedio de la muestra de 1000 Binomial:\", promedio_1000)\n",
        "\n",
        "# Esperanza de la Binomial\n",
        "esperanza_binomial = n * p\n",
        "print(\"Esperanza de la Binomial:\", esperanza_binomial)\n",
        "\n",
        "\n",
        "# Gráfica\n",
        "# ------------------------------------------------------------------------------"
      ],
      "metadata": {
        "colab": {
          "base_uri": "https://localhost:8080/"
        },
        "id": "23TDIDXERKfg",
        "outputId": "af455605-a72d-4d69-f34b-8b00cdbb61a5"
      },
      "execution_count": null,
      "outputs": [
        {
          "output_type": "stream",
          "name": "stdout",
          "text": [
            "Promedio de la muestra de 10 Binomial: 4.9\n",
            "Promedio de la muestra de 100 Binomial: 49.55\n",
            "Promedio de la muestra de 1000 Binomial: 500.227\n",
            "Esperanza de la Binomial: 0.5\n"
          ]
        }
      ]
    },
    {
      "cell_type": "markdown",
      "source": [
        "# Geométrica"
      ],
      "metadata": {
        "id": "f_nNp67fU3I8"
      }
    },
    {
      "cell_type": "code",
      "source": [
        "# Muestras de Geométrica con p = 0.5\n",
        "n1 = 10\n",
        "n2 = 100\n",
        "n3 = 1000\n",
        "p = 0.5\n",
        "\n",
        "# Muestra de Geométrica\n",
        "geometrica_10 = [Geo(p) for i in range(n1)]\n",
        "geometrica_100 = [Geo(p) for i in range(n2)]\n",
        "geometrica_1000 = [Geo(p) for i in range(n3)]\n",
        "\n",
        "# Calcular el promedio de cada muestra\n",
        "promedio_10 = np.mean(geometrica_10)\n",
        "promedio_100 = np.mean(geometrica_100)\n",
        "promedio_1000 = np.mean(geometrica_1000)\n",
        "print(\"Promedio de la muestra de 10 Geométrica:\", promedio_10)\n",
        "print(\"Promedio de la muestra de 100 Geométrica:\", promedio_100)\n",
        "print(\"Promedio de la muestra de 1000 Geométrica:\", promedio_1000)\n",
        "\n",
        "# Esperanza de la Geométrica\n",
        "esperanza_geometrica = 1 / p\n",
        "print(\"Esperanza de la Geométrica:\", esperanza_geometrica)\n",
        "\n",
        "\n",
        "# Gráfica\n",
        "# ------------------------------------------------------------------------------"
      ],
      "metadata": {
        "colab": {
          "base_uri": "https://localhost:8080/"
        },
        "id": "_vv3JrvBSDRN",
        "outputId": "3d1792ae-629a-45d4-918f-2711b3cbeafb"
      },
      "execution_count": null,
      "outputs": [
        {
          "output_type": "stream",
          "name": "stdout",
          "text": [
            "Promedio de la muestra de 10 Geométrica: 1.4\n",
            "Promedio de la muestra de 100 Geométrica: 1.92\n",
            "Promedio de la muestra de 1000 Geométrica: 2.068\n",
            "Esperanza de la Geométrica: 2.0\n"
          ]
        }
      ]
    },
    {
      "cell_type": "markdown",
      "source": [
        "# Probabilidad acumulada"
      ],
      "metadata": {
        "id": "0aq_TgZGYdN9"
      }
    },
    {
      "cell_type": "markdown",
      "source": [
        "¿Cómo aproximar $F_X(x) = \\mathbb{P}(X \\leq x)$?\n",
        "\n"
      ],
      "metadata": {
        "id": "JDX5gLeQVsUR"
      }
    },
    {
      "cell_type": "code",
      "source": [
        "def probabilidad_acumulada(datos, x):\n",
        "  \"\"\"\n",
        "  Aproxima la probabilidad acumulada P(X <= x) a partir de una muestra de datos.\n",
        "\n",
        "  Args:\n",
        "    datos: Una lista o array de números que representan la muestra de la variable aleatoria X.\n",
        "    x: El valor para el cual se desea calcular la probabilidad acumulada.\n",
        "\n",
        "  Returns:\n",
        "    La probabilidad acumulada estimada P(X <= x).\n",
        "  \"\"\"\n",
        "  fav = 0\n",
        "  for y in datos:\n",
        "    if y <= x:\n",
        "      fav += 1\n",
        "  return fav / len(datos)\n",
        "\n",
        "a = probabilidad_acumulada(bernoulli_10, 0.5)\n",
        "print(a)\n",
        "# En una línea\n",
        "probabilidad_acumulada_easy = sum([1 for y in bernoulli_10 if y <= 0.5]) / len(bernoulli_10)\n",
        "print(\"Probabilidad acumulada:\", probabilidad_acumulada_easy)"
      ],
      "metadata": {
        "colab": {
          "base_uri": "https://localhost:8080/"
        },
        "id": "gqbNhDpNYEfc",
        "outputId": "d0acb541-b03b-4299-ea1a-dc75808d2a89"
      },
      "execution_count": null,
      "outputs": [
        {
          "output_type": "stream",
          "name": "stdout",
          "text": [
            "0.5\n",
            "Probabilidad acumulada: 0.5\n"
          ]
        }
      ]
    },
    {
      "cell_type": "markdown",
      "source": [
        "Generar una malla en $[a,b]$"
      ],
      "metadata": {
        "id": "YSLgH3s4Y4Oj"
      }
    },
    {
      "cell_type": "code",
      "source": [
        "# malla = np.linspace(a, b, n)"
      ],
      "metadata": {
        "id": "2Q0sdCo9XuMT"
      },
      "execution_count": null,
      "outputs": []
    }
  ]
}